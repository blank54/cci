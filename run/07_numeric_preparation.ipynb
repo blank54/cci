{
 "cells": [
  {
   "cell_type": "code",
   "execution_count": 2,
   "id": "ea5a87c1",
   "metadata": {},
   "outputs": [],
   "source": [
    "#!/usr/bin/env python\n",
    "# -*- coding: utf-8 -*-\n",
    "\n",
    "# Configuration\n",
    "import os\n",
    "import sys\n",
    "rootpath = os.path.dirname(os.getcwd())\n",
    "sys.path.append(rootpath)\n",
    "\n",
    "from news import NewsPath, NewsIO, NumericData\n",
    "newspath = NewsPath()\n",
    "newsio = NewsIO()\n",
    "\n",
    "import pandas as pd\n",
    "from copy import deepcopy\n",
    "from collections import defaultdict"
   ]
  },
  {
   "cell_type": "code",
   "execution_count": 3,
   "id": "e2b20df2",
   "metadata": {},
   "outputs": [
    {
     "name": "stderr",
     "output_type": "stream",
     "text": [
      "/data/blank54/anaconda3/envs/news/lib/python3.7/site-packages/ipykernel/ipkernel.py:287: DeprecationWarning: `should_run_async` will not call `transform_cell` automatically in the future. Please pass the result to `transformed_cell` argument and any exception that happen during thetransform in `preprocessing_exc_tuple` in IPython 7.17 and above.\n",
      "  and should_run_async(code)\n"
     ]
    }
   ],
   "source": [
    "## Filenames\n",
    "fdir_numeric_data = os.path.sep.join((newspath.fdir_data, 'numeric'))\n",
    "\n",
    "fname_demographic_info = 'numeric_demographic_info.xlsx'\n",
    "fpath_demographic_info = os.path.sep.join((newspath.fdir_data, fname_demographic_info))\n",
    "\n",
    "fname_demographic_info_norm = 'numeric_demographic_info_norm.xlsx'\n",
    "fpath_demographic_info_norm = os.path.sep.join((newspath.fdir_data, fname_demographic_info_norm))\n",
    "\n",
    "fname_numeric_data_norm = 'numeric_data_norm.xlsx'\n",
    "fpath_numeric_data_norm = os.path.sep.join((newspath.fdir_data, fname_numeric_data_norm))"
   ]
  },
  {
   "cell_type": "code",
   "execution_count": 4,
   "id": "91aa9d23",
   "metadata": {},
   "outputs": [
    {
     "name": "stderr",
     "output_type": "stream",
     "text": [
      "/data/blank54/anaconda3/envs/news/lib/python3.7/site-packages/ipykernel/ipkernel.py:287: DeprecationWarning: `should_run_async` will not call `transform_cell` automatically in the future. Please pass the result to `transformed_cell` argument and any exception that happen during thetransform in `preprocessing_exc_tuple` in IPython 7.17 and above.\n",
      "  and should_run_async(code)\n"
     ]
    },
    {
     "name": "stdout",
     "output_type": "stream",
     "text": [
      "============================================================\n",
      "Data import\n",
      "  | Shape of dataset: (180, 276)\n"
     ]
    }
   ],
   "source": [
    "print('============================================================')\n",
    "print('Data import')\n",
    "\n",
    "numeric_data = NumericData(fdir=fdir_numeric_data, start='200501', end='201912')\n",
    "numeric_df = numeric_data.to_df()\n",
    "print('  | Shape of dataset: {}'.format(numeric_df.shape))"
   ]
  },
  {
   "cell_type": "code",
   "execution_count": 6,
   "id": "90ceb3ea",
   "metadata": {},
   "outputs": [
    {
     "name": "stdout",
     "output_type": "stream",
     "text": [
      "rcc_울산국내외국기관\n",
      "rcc_세종국내외국기관\n",
      "rcc_세종민자\n",
      "rcc_충북국내외국기관\n",
      "rcc_충남국내외국기관\n",
      "rcc_제주국내외국기관\n"
     ]
    },
    {
     "name": "stderr",
     "output_type": "stream",
     "text": [
      "/data/blank54/anaconda3/envs/news/lib/python3.7/site-packages/ipykernel/ipkernel.py:287: DeprecationWarning: `should_run_async` will not call `transform_cell` automatically in the future. Please pass the result to `transformed_cell` argument and any exception that happen during thetransform in `preprocessing_exc_tuple` in IPython 7.17 and above.\n",
      "  and should_run_async(code)\n"
     ]
    }
   ],
   "source": [
    "def explore_demographic_info(df, except_list):\n",
    "    result = defaultdict(list)\n",
    "    for attr in df.keys():\n",
    "        if attr in except_list:\n",
    "            continue\n",
    "        else:\n",
    "            pass\n",
    "        \n",
    "        try:\n",
    "            max_value = max(df[attr])\n",
    "            min_value = min(df[attr])\n",
    "            \n",
    "            if all([(max_value==0), (min_value==0)]):\n",
    "                print(attr)\n",
    "                continue\n",
    "            else:\n",
    "                result['attr'].append(attr)\n",
    "                result['max'].append(max_value)\n",
    "                result['min'].append(min_value)\n",
    "                result['mean'].append(df[attr].mean())\n",
    "                result['std'].append(df[attr].std())\n",
    "        except TypeError:\n",
    "            print(attr)\n",
    "            continue\n",
    "        \n",
    "    return pd.DataFrame(result)\n",
    "\n",
    "except_list = [var for var in numeric_df.keys() if 'cci' in var]\n",
    "except_list.append('yearmonth')\n",
    "demographic_info_df = explore_demographic_info(numeric_df, except_list=except_list)"
   ]
  },
  {
   "cell_type": "code",
   "execution_count": 7,
   "id": "f543439b",
   "metadata": {},
   "outputs": [
    {
     "name": "stderr",
     "output_type": "stream",
     "text": [
      "/data/blank54/anaconda3/envs/news/lib/python3.7/site-packages/ipykernel/ipkernel.py:287: DeprecationWarning: `should_run_async` will not call `transform_cell` automatically in the future. Please pass the result to `transformed_cell` argument and any exception that happen during thetransform in `preprocessing_exc_tuple` in IPython 7.17 and above.\n",
      "  and should_run_async(code)\n"
     ]
    },
    {
     "data": {
      "text/html": [
       "<div>\n",
       "<style scoped>\n",
       "    .dataframe tbody tr th:only-of-type {\n",
       "        vertical-align: middle;\n",
       "    }\n",
       "\n",
       "    .dataframe tbody tr th {\n",
       "        vertical-align: top;\n",
       "    }\n",
       "\n",
       "    .dataframe thead th {\n",
       "        text-align: right;\n",
       "    }\n",
       "</style>\n",
       "<table border=\"1\" class=\"dataframe\">\n",
       "  <thead>\n",
       "    <tr style=\"text-align: right;\">\n",
       "      <th></th>\n",
       "      <th>attr</th>\n",
       "      <th>max</th>\n",
       "      <th>min</th>\n",
       "      <th>mean</th>\n",
       "      <th>std</th>\n",
       "    </tr>\n",
       "  </thead>\n",
       "  <tbody>\n",
       "  </tbody>\n",
       "</table>\n",
       "</div>"
      ],
      "text/plain": [
       "Empty DataFrame\n",
       "Columns: [attr, max, min, mean, std]\n",
       "Index: []"
      ]
     },
     "execution_count": 7,
     "metadata": {},
     "output_type": "execute_result"
    }
   ],
   "source": [
    "demographic_info_df[demographic_info_df['attr']=='rcc_세종민자']"
   ]
  }
 ],
 "metadata": {
  "kernelspec": {
   "display_name": "Python 3",
   "language": "python",
   "name": "python3"
  },
  "language_info": {
   "codemirror_mode": {
    "name": "ipython",
    "version": 3
   },
   "file_extension": ".py",
   "mimetype": "text/x-python",
   "name": "python",
   "nbconvert_exporter": "python",
   "pygments_lexer": "ipython3",
   "version": "3.7.10"
  }
 },
 "nbformat": 4,
 "nbformat_minor": 5
}
