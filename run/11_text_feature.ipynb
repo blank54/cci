{
 "cells": [
  {
   "cell_type": "code",
   "execution_count": 1,
   "id": "4c60f67c",
   "metadata": {},
   "outputs": [],
   "source": [
    "#!/usr/bin/env python\n",
    "# -*- coding: utf-8 -*-\n",
    "\n",
    "# Configuration\n",
    "import os\n",
    "import sys\n",
    "rootpath = os.path.dirname(os.getcwd())\n",
    "sys.path.append(rootpath)\n",
    "\n",
    "from news import NewsCorpus, NewsIO, NewsPath\n",
    "newsio = NewsIO()\n",
    "newspath = NewsPath()\n",
    "\n",
    "import json\n",
    "import itertools\n",
    "import numpy as np\n",
    "from tqdm import tqdm\n",
    "from collections import defaultdict, Counter"
   ]
  },
  {
   "cell_type": "code",
   "execution_count": 2,
   "id": "54a3871e",
   "metadata": {},
   "outputs": [
    {
     "name": "stderr",
     "output_type": "stream",
     "text": [
      "/data/blank54/anaconda3/envs/news/lib/python3.7/site-packages/ipykernel/ipkernel.py:287: DeprecationWarning: `should_run_async` will not call `transform_cell` automatically in the future. Please pass the result to `transformed_cell` argument and any exception that happen during thetransform in `preprocessing_exc_tuple` in IPython 7.17 and above.\n",
      "  and should_run_async(code)\n"
     ]
    }
   ],
   "source": [
    "## Filenames\n",
    "fname_text_feature_first = 'text_feature_first.json'\n",
    "fname_text_feature_second = 'text_feature_second.json'\n",
    "fname_text_feature_topic_first = 'text_feature_topic_first.json'\n",
    "fname_text_feature_topic_second = 'text_feature_topic_second.json'\n",
    "\n",
    "fname_tfidf = 'tfidf.pk'\n",
    "fname_word_counter = 'word_counter.pk'\n",
    "fname_doc_counter = 'doc_counter.pk'\n",
    "\n",
    "## Parameters\n",
    "DO_WORD = False\n",
    "DO_TOPIC = False\n",
    "DO_BUILD_TFIDF = False"
   ]
  },
  {
   "cell_type": "code",
   "execution_count": 3,
   "id": "b94ef144",
   "metadata": {},
   "outputs": [
    {
     "name": "stderr",
     "output_type": "stream",
     "text": [
      "/data/blank54/anaconda3/envs/news/lib/python3.7/site-packages/ipykernel/ipkernel.py:287: DeprecationWarning: `should_run_async` will not call `transform_cell` automatically in the future. Please pass the result to `transformed_cell` argument and any exception that happen during thetransform in `preprocessing_exc_tuple` in IPython 7.17 and above.\n",
      "  and should_run_async(code)\n"
     ]
    }
   ],
   "source": [
    "corpus = NewsCorpus(dname_corpus='corpus_topic_filtered',\n",
    "                        start='200501',\n",
    "                        end='201912')\n"
   ]
  },
  {
   "cell_type": "code",
   "execution_count": 5,
   "id": "662f6ae3",
   "metadata": {},
   "outputs": [
    {
     "name": "stderr",
     "output_type": "stream",
     "text": [
      "/data/blank54/anaconda3/envs/news/lib/python3.7/site-packages/ipykernel/ipkernel.py:287: DeprecationWarning: `should_run_async` will not call `transform_cell` automatically in the future. Please pass the result to `transformed_cell` argument and any exception that happen during thetransform in `preprocessing_exc_tuple` in IPython 7.17 and above.\n",
      "  and should_run_async(code)\n"
     ]
    },
    {
     "name": "stdout",
     "output_type": "stream",
     "text": [
      "============================================================\n",
      "Text feature engineering\n",
      "  | fdir : /data/blank54/workspace/project/news/data\n",
      "  | fname: text_feature_first.json\n"
     ]
    },
    {
     "name": "stderr",
     "output_type": "stream",
     "text": [
      "100%|██████████| 180/180 [00:00<00:00, 2072.53it/s]"
     ]
    },
    {
     "name": "stdout",
     "output_type": "stream",
     "text": [
      "  | fdir : /data/blank54/workspace/project/news/data\n",
      "  | fname: text_feature_second.json\n",
      "  | fdir : /data/blank54/workspace/project/news/data\n",
      "  | fname: text_feature_topic_first.json\n",
      "  | fdir : /data/blank54/workspace/project/news/data\n",
      "  | fname: text_feature_topic_second.json\n",
      "  | Evaluation of text features\n",
      "  | # of individual words (Feature engineering): 6,333,433\n"
     ]
    },
    {
     "name": "stderr",
     "output_type": "stream",
     "text": [
      "\n"
     ]
    }
   ],
   "source": [
    "print('============================================================')\n",
    "print('Text feature engineering')\n",
    "\n",
    "if DO_WORD:\n",
    "    text_feature_first, text_feature_second = build_text_feature(corpus)\n",
    "    newsio.save_json(_object=text_feature_first, _type='data', fname_object=fname_text_feature_first, verbose=False)\n",
    "    newsio.save_json(_object=text_feature_second, _type='data', fname_object=fname_text_feature_second, verbose=False)\n",
    "else:\n",
    "    text_feature_first = newsio.load_json(fname_object=fname_text_feature_first, _type='data')\n",
    "    text_feature_second = newsio.load_json(fname_object=fname_text_feature_second, _type='data')\n",
    "\n",
    "\n",
    "if DO_TOPIC:\n",
    "    text_feature_topic_first, text_feature_topic_second = build_text_feature_topic(corpus)\n",
    "    newsio.save_json(_object=text_feature_topic_first, _type='data', fname_object=fname_text_feature_topic_first, verbose=False)\n",
    "    newsio.save_json(_object=text_feature_topic_second, _type='data', fname_object=fname_text_feature_topic_second, verbose=False)\n",
    "else:\n",
    "    text_feature_topic_first = newsio.load_json(fname_object=fname_text_feature_topic_first, _type='data')\n",
    "    text_feature_topic_second = newsio.load_json(fname_object=fname_text_feature_topic_second, _type='data')\n",
    "\n",
    "print('  | Evaluation of text features')\n",
    "word_set = []\n",
    "for yearmonth in tqdm(corpus.yearmonth_list):\n",
    "    word_set.extend(text_feature_first[yearmonth]['word_count'].values())\n",
    "print('  | # of individual words (Feature engineering): {:,}'.format(len(word_set)))"
   ]
  },
  {
   "cell_type": "code",
   "execution_count": 6,
   "id": "09e6d823",
   "metadata": {},
   "outputs": [
    {
     "name": "stdout",
     "output_type": "stream",
     "text": [
      "============================================================\n",
      "Build TF-IDF\n",
      "  | fdir : /data/blank54/workspace/project/news/model\n",
      "  | fname: word_counter.pk\n",
      "  | fdir : /data/blank54/workspace/project/news/model\n",
      "  | fname: doc_counter.pk\n",
      "  | fdir : /data/blank54/workspace/project/news/model\n",
      "  | fname: tfidf.pk\n",
      "  | # of individual words (TF-IDF): 146,048\n"
     ]
    },
    {
     "name": "stderr",
     "output_type": "stream",
     "text": [
      "/data/blank54/anaconda3/envs/news/lib/python3.7/site-packages/ipykernel/ipkernel.py:287: DeprecationWarning: `should_run_async` will not call `transform_cell` automatically in the future. Please pass the result to `transformed_cell` argument and any exception that happen during thetransform in `preprocessing_exc_tuple` in IPython 7.17 and above.\n",
      "  and should_run_async(code)\n"
     ]
    }
   ],
   "source": [
    "print('============================================================')\n",
    "print('Build TF-IDF')\n",
    "\n",
    "if DO_BUILD_TFIDF:\n",
    "    word_counter, tfidf = build_tfidf(corpus=corpus)\n",
    "    newsio.save(_object=word_counter, _type='model', fname_object=fname_word_counter, verbose=False)\n",
    "    newsio.save(_object=doc_counter, _type='model', fname_object=fname_doc_counter, verbose=False)\n",
    "    newsio.save(_object=tfidf, _type='model', fname_object=fname_tfidf, verbose=False)\n",
    "else:\n",
    "    word_counter = newsio.load(fname_object=fname_word_counter, _type='model')\n",
    "    doc_counter = newsio.load(fname_object=fname_doc_counter, _type='model')\n",
    "    tfidf = newsio.load(fname_object=fname_tfidf, _type='model')\n",
    "\n",
    "print('  | # of individual words (TF-IDF): {:,}'.format(len(word_counter)))"
   ]
  },
  {
   "cell_type": "code",
   "execution_count": 7,
   "id": "42c2a895",
   "metadata": {},
   "outputs": [
    {
     "name": "stderr",
     "output_type": "stream",
     "text": [
      "/data/blank54/anaconda3/envs/news/lib/python3.7/site-packages/ipykernel/ipkernel.py:287: DeprecationWarning: `should_run_async` will not call `transform_cell` automatically in the future. Please pass the result to `transformed_cell` argument and any exception that happen during thetransform in `preprocessing_exc_tuple` in IPython 7.17 and above.\n",
      "  and should_run_async(code)\n"
     ]
    }
   ],
   "source": [
    "word_sorted = list(sorted([(word, tfidf[word]['tfidf']) for word in tfidf], key=lambda x:x[1], reverse=True))"
   ]
  },
  {
   "cell_type": "code",
   "execution_count": 30,
   "id": "7d367cb9",
   "metadata": {},
   "outputs": [
    {
     "name": "stderr",
     "output_type": "stream",
     "text": [
      "/data/blank54/anaconda3/envs/news/lib/python3.7/site-packages/ipykernel/ipkernel.py:287: DeprecationWarning: `should_run_async` will not call `transform_cell` automatically in the future. Please pass the result to `transformed_cell` argument and any exception that happen during thetransform in `preprocessing_exc_tuple` in IPython 7.17 and above.\n",
      "  and should_run_async(code)\n"
     ]
    },
    {
     "data": {
      "image/png": "[encoded data removed]",
      "text/plain": [
       "<Figure size 432x288 with 1 Axes>"
      ]
     },
     "metadata": {
      "needs_background": "light"
     },
     "output_type": "display_data"
    }
   ],
   "source": [
    "from matplotlib import pyplot as plt\n",
    "\n",
    "y_values = [value for word, value in word_sorted[:1000]]\n",
    "\n",
    "plt.plot(y_values)\n",
    "plt.show()"
   ]
  },
  {
   "cell_type": "code",
   "execution_count": 23,
   "id": "8cd669bf",
   "metadata": {},
   "outputs": [
    {
     "name": "stderr",
     "output_type": "stream",
     "text": [
      "/data/blank54/anaconda3/envs/news/lib/python3.7/site-packages/ipykernel/ipkernel.py:287: DeprecationWarning: `should_run_async` will not call `transform_cell` automatically in the future. Please pass the result to `transformed_cell` argument and any exception that happen during thetransform in `preprocessing_exc_tuple` in IPython 7.17 and above.\n",
      "  and should_run_async(code)\n"
     ]
    },
    {
     "data": {
      "image/png": "[encoded data removed]",
      "text/plain": [
       "<Figure size 432x288 with 1 Axes>"
      ]
     },
     "metadata": {
      "needs_background": "light"
     },
     "output_type": "display_data"
    }
   ],
   "source": [
    "y_diff_values = []\n",
    "for i in range(1, len(y_values)):\n",
    "    y_diff_values.append((y_values[i-1] - y_values[i]))\n",
    "    \n",
    "plt.plot(y_diff_values)\n",
    "plt.show()"
   ]
  },
  {
   "cell_type": "code",
   "execution_count": 27,
   "id": "b18e0127",
   "metadata": {},
   "outputs": [
    {
     "name": "stderr",
     "output_type": "stream",
     "text": [
      "/data/blank54/anaconda3/envs/news/lib/python3.7/site-packages/ipykernel/ipkernel.py:287: DeprecationWarning: `should_run_async` will not call `transform_cell` automatically in the future. Please pass the result to `transformed_cell` argument and any exception that happen during thetransform in `preprocessing_exc_tuple` in IPython 7.17 and above.\n",
      "  and should_run_async(code)\n"
     ]
    },
    {
     "data": {
      "image/png": "[encoded data removed]",
      "text/plain": [
       "<Figure size 432x288 with 1 Axes>"
      ]
     },
     "metadata": {
      "needs_background": "light"
     },
     "output_type": "display_data"
    }
   ],
   "source": [
    "y_diff_diff_values = []\n",
    "for i in range(1, len(y_diff_values)):\n",
    "    y_diff_diff_values.append((y_diff_values[i-1] - y_diff_values[i]))\n",
    "    \n",
    "plt.plot(y_diff_diff_values)\n",
    "plt.show()"
   ]
  },
  {
   "cell_type": "code",
   "execution_count": 29,
   "id": "9f7d300a",
   "metadata": {},
   "outputs": [
    {
     "name": "stdout",
     "output_type": "stream",
     "text": [
      "0: 232079.05002494645\n",
      "1: 114224.97017172235\n",
      "2: 107302.27170947287\n",
      "3: 80442.50980599457\n",
      "4: 71087.96139203385\n",
      "5: 61632.95132701867\n",
      "6: 59986.9699096242\n",
      "7: 55096.98216461367\n",
      "8: 48932.218036382925\n",
      "9: 41411.481631127186\n",
      "10: 40383.863707933575\n",
      "11: 31474.300836173585\n",
      "12: 22109.160094342893\n",
      "13: 21468.715080042137\n",
      "14: 20821.432469676947\n",
      "15: 20603.10282754549\n",
      "16: 20334.801037000958\n",
      "17: 20082.39865491353\n",
      "18: 18791.588209118927\n",
      "19: 17954.90820600977\n",
      "20: 15685.599783116253\n",
      "21: 15391.68502040254\n",
      "22: 11354.61751466419\n",
      "23: 10445.97087410069\n",
      "24: 10334.808471013326\n",
      "25: 10273.294098211685\n",
      "26: 9965.827553018462\n",
      "27: 9725.250518572051\n",
      "28: 9265.913672103314\n",
      "29: 9100.793779866537\n",
      "30: 8970.711698237807\n",
      "31: 8787.283454158925\n",
      "32: 8622.62211053446\n",
      "33: 8011.921569057857\n",
      "34: 7993.945297660539\n",
      "35: 7980.672595227254\n",
      "36: 7947.211826076033\n",
      "37: 7447.408690829179\n",
      "38: 7299.501100401743\n",
      "39: 7257.378423206275\n",
      "40: 6653.315042856615\n",
      "41: 6418.756382842315\n",
      "42: 6342.101189601468\n",
      "43: 6330.54054923635\n",
      "44: 6103.311645798734\n",
      "45: 5915.816984435776\n",
      "46: 5556.446483394364\n",
      "47: 5349.69293382077\n",
      "48: 5217.982308726758\n",
      "49: 4824.587003304041\n",
      "50: 4748.912317506038\n",
      "51: 4745.139607359539\n",
      "52: 4611.4415156330215\n",
      "53: 4483.849996167468\n",
      "54: 4469.715298712254\n",
      "55: 4151.219454460312\n",
      "56: 4118.9676615166245\n",
      "57: 4099.825667829486\n",
      "58: 4076.78784086043\n",
      "59: 3900.360582690919\n",
      "60: 3834.528723736061\n",
      "61: 3789.683287867112\n",
      "62: 3632.7602582282852\n",
      "63: 3575.799815081409\n",
      "64: 3466.5606867116876\n",
      "65: 3458.5268682156457\n",
      "66: 3457.9992001205683\n",
      "67: 3426.2514984114096\n",
      "68: 3392.801136500668\n",
      "69: 3391.29904566356\n",
      "70: 3289.520223412139\n",
      "71: 3263.490110302577\n",
      "72: 3252.3600500794128\n",
      "73: 3226.716159605421\n",
      "74: 3207.635996122146\n",
      "75: 3178.8222426587017\n",
      "76: 3166.3870106132235\n",
      "77: 3159.4612378672464\n",
      "78: 3064.5321244734805\n",
      "79: 3051.9492986920523\n",
      "80: 3026.162760546664\n",
      "81: 2979.3640156730544\n",
      "82: 2934.5808181756875\n",
      "83: 2896.3350371202687\n",
      "84: 2891.154947013478\n",
      "85: 2882.3536095496966\n",
      "86: 2751.9672488621436\n",
      "87: 2723.2085352194263\n",
      "88: 2705.51398202416\n",
      "89: 2705.0631655980833\n",
      "90: 2695.2537457074504\n",
      "91: 2675.2805742238997\n",
      "92: 2674.4095390612492\n",
      "93: 2633.990546516143\n",
      "94: 2633.4300263028126\n",
      "95: 2620.256457065232\n",
      "96: 2595.258702444844\n",
      "97: 2561.6210298596416\n",
      "98: 2551.9835669251624\n",
      "99: 2534.820900737541\n"
     ]
    },
    {
     "name": "stderr",
     "output_type": "stream",
     "text": [
      "/data/blank54/anaconda3/envs/news/lib/python3.7/site-packages/ipykernel/ipkernel.py:287: DeprecationWarning: `should_run_async` will not call `transform_cell` automatically in the future. Please pass the result to `transformed_cell` argument and any exception that happen during thetransform in `preprocessing_exc_tuple` in IPython 7.17 and above.\n",
      "  and should_run_async(code)\n"
     ]
    }
   ],
   "source": [
    "for idx, value in enumerate(sorted(y_diff_values, reverse=True)[:100]):\n",
    "    print(f'{idx}: {value}')"
   ]
  },
  {
   "cell_type": "code",
   "execution_count": 24,
   "id": "53fc601b",
   "metadata": {},
   "outputs": [
    {
     "name": "stderr",
     "output_type": "stream",
     "text": [
      "/data/blank54/anaconda3/envs/news/lib/python3.7/site-packages/ipykernel/ipkernel.py:287: DeprecationWarning: `should_run_async` will not call `transform_cell` automatically in the future. Please pass the result to `transformed_cell` argument and any exception that happen during thetransform in `preprocessing_exc_tuple` in IPython 7.17 and above.\n",
      "  and should_run_async(code)\n"
     ]
    },
    {
     "data": {
      "text/plain": [
       "3"
      ]
     },
     "execution_count": 24,
     "metadata": {},
     "output_type": "execute_result"
    }
   ],
   "source": [
    "import numpy as np\n",
    "np.argmax(y_diff_values)"
   ]
  }
 ],
 "metadata": {
  "kernelspec": {
   "display_name": "Python 3",
   "language": "python",
   "name": "python3"
  },
  "language_info": {
   "codemirror_mode": {
    "name": "ipython",
    "version": 3
   },
   "file_extension": ".py",
   "mimetype": "text/x-python",
   "name": "python",
   "nbconvert_exporter": "python",
   "pygments_lexer": "ipython3",
   "version": "3.7.10"
  }
 },
 "nbformat": 4,
 "nbformat_minor": 5
}
