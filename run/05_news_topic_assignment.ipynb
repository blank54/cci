{
 "cells": [
  {
   "cell_type": "markdown",
   "metadata": {},
   "source": [
    "https://radimrehurek.com/gensim/models/ldamodel.html\n",
    "\n",
    "https://www.machinelearningplus.com/nlp/topic-modeling-visualization-how-to-present-results-lda-models/"
   ]
  },
  {
   "cell_type": "markdown",
   "metadata": {},
   "source": [
    "# Configuration"
   ]
  },
  {
   "cell_type": "code",
   "execution_count": 5,
   "metadata": {},
   "outputs": [
    {
     "name": "stderr",
     "output_type": "stream",
     "text": [
      "/data/blank54/anaconda3/envs/news/lib/python3.7/site-packages/ipykernel/ipkernel.py:287: DeprecationWarning: `should_run_async` will not call `transform_cell` automatically in the future. Please pass the result to `transformed_cell` argument and any exception that happen during thetransform in `preprocessing_exc_tuple` in IPython 7.17 and above.\n",
      "  and should_run_async(code)\n"
     ]
    }
   ],
   "source": [
    "import os\n",
    "import sys\n",
    "rootpath = os.path.dirname(os.getcwd())\n",
    "sys.path.append(rootpath)\n",
    "\n",
    "from news import LdaGridSearchResult, NewsIO, NewsPath\n",
    "newsio = NewsIO()\n",
    "newspath = NewsPath()\n",
    "\n",
    "import json\n",
    "import pandas as pd\n",
    "from collections import defaultdict"
   ]
  },
  {
   "cell_type": "code",
   "execution_count": 2,
   "metadata": {},
   "outputs": [
    {
     "name": "stderr",
     "output_type": "stream",
     "text": [
      "/data/blank54/anaconda3/envs/news/lib/python3.7/site-packages/ipykernel/ipkernel.py:287: DeprecationWarning: `should_run_async` will not call `transform_cell` automatically in the future. Please pass the result to `transformed_cell` argument and any exception that happen during thetransform in `preprocessing_exc_tuple` in IPython 7.17 and above.\n",
      "  and should_run_async(code)\n"
     ]
    }
   ],
   "source": [
    "## Parameters\n",
    "SAMPLE_SIZE = 100000\n",
    "MAX_WORD_TOPIC = 50\n",
    "\n",
    "## Filenames\n",
    "fname_gs_result = f'lda_gs_{SAMPLE_SIZE}.json'\n",
    "\n",
    "fname_docs_dict = f'lda/docs_dict_{SAMPLE_SIZE}.json'\n",
    "fname_id2word = f'lda/id2word_{SAMPLE_SIZE}.json'\n",
    "fname_docs_bow = f'lda/docs_bow_{SAMPLE_SIZE}.json'"
   ]
  },
  {
   "cell_type": "code",
   "execution_count": 3,
   "metadata": {},
   "outputs": [
    {
     "name": "stderr",
     "output_type": "stream",
     "text": [
      "/data/blank54/anaconda3/envs/news/lib/python3.7/site-packages/ipykernel/ipkernel.py:287: DeprecationWarning: `should_run_async` will not call `transform_cell` automatically in the future. Please pass the result to `transformed_cell` argument and any exception that happen during thetransform in `preprocessing_exc_tuple` in IPython 7.17 and above.\n",
      "  and should_run_async(code)\n"
     ]
    }
   ],
   "source": [
    "def find_optimum(lda_gs_result):\n",
    "    result_list = [(fname, coherence) for fname, coherence in zip(lda_gs_result.result['fname'], lda_gs_result.result['coherence'])]\n",
    "    result_list_sorted = list(sorted(result_list, key=lambda x:x[1], reverse=True))\n",
    "    return result_list_sorted[0]"
   ]
  },
  {
   "cell_type": "code",
   "execution_count": 4,
   "metadata": {},
   "outputs": [
    {
     "name": "stderr",
     "output_type": "stream",
     "text": [
      "/data/blank54/anaconda3/envs/news/lib/python3.7/site-packages/ipykernel/ipkernel.py:287: DeprecationWarning: `should_run_async` will not call `transform_cell` automatically in the future. Please pass the result to `transformed_cell` argument and any exception that happen during thetransform in `preprocessing_exc_tuple` in IPython 7.17 and above.\n",
      "  and should_run_async(code)\n"
     ]
    },
    {
     "name": "stdout",
     "output_type": "stream",
     "text": [
      "  | fdir : /data/blank54/workspace/project/news/model\n",
      "  | fname: lda/lda_100000_37_10_0.1_0.02.pk\n"
     ]
    }
   ],
   "source": [
    "## Find optimum\n",
    "gs_result = newsio.load(_type='result', fname_object=fname_gs_result, verbose=False)\n",
    "lda_gs_result = LdaGridSearchResult(gs_result=gs_result)\n",
    "\n",
    "fname_lda_opt, coherence_opt = find_optimum(lda_gs_result)\n",
    "lda_model = newsio.load(_type='model', fname_object=fname_lda_opt)"
   ]
  },
  {
   "cell_type": "markdown",
   "metadata": {},
   "source": [
    "# LDA model inference"
   ]
  },
  {
   "cell_type": "code",
   "execution_count": 5,
   "metadata": {},
   "outputs": [
    {
     "name": "stderr",
     "output_type": "stream",
     "text": [
      "/data/blank54/anaconda3/envs/news/lib/python3.7/site-packages/ipykernel/ipkernel.py:287: DeprecationWarning: `should_run_async` will not call `transform_cell` automatically in the future. Please pass the result to `transformed_cell` argument and any exception that happen during thetransform in `preprocessing_exc_tuple` in IPython 7.17 and above.\n",
      "  and should_run_async(code)\n"
     ]
    },
    {
     "name": "stdout",
     "output_type": "stream",
     "text": [
      "  | fdir : /data/blank54/workspace/project/news/data\n",
      "  | fname: lda/docs_dict_100000.json\n",
      "  | fdir : /data/blank54/workspace/project/news/data\n",
      "  | fname: lda/id2word_100000.json\n",
      "  | fdir : /data/blank54/workspace/project/news/data\n",
      "  | fname: lda/docs_bow_100000.json\n"
     ]
    }
   ],
   "source": [
    "docs_dict = newsio.load(_type='data', fname_object=fname_docs_dict)\n",
    "id2word = newsio.load(_type='data', fname_object=fname_id2word)\n",
    "docs_bow = newsio.load(_type='data', fname_object=fname_docs_bow)"
   ]
  },
  {
   "cell_type": "code",
   "execution_count": 5,
   "metadata": {},
   "outputs": [
    {
     "name": "stderr",
     "output_type": "stream",
     "text": [
      "/data/blank54/anaconda3/envs/news/lib/python3.7/site-packages/ipykernel/ipkernel.py:287: DeprecationWarning: `should_run_async` will not call `transform_cell` automatically in the future. Please pass the result to `transformed_cell` argument and any exception that happen during thetransform in `preprocessing_exc_tuple` in IPython 7.17 and above.\n",
      "  and should_run_async(code)\n"
     ]
    }
   ],
   "source": [
    "topics = lda_model.show_topics(num_topics=lda_model.num_topics, num_words=MAX_WORD_TOPIC, formatted=False)\n",
    "\n",
    "topic_keywords = defaultdict(list)\n",
    "for topic_id, word_list in topics:\n",
    "    topic_keywords['topic_id'].append(topic_id)\n",
    "    for idx, (word, score) in enumerate(word_list):\n",
    "        topic_keywords[f'word_{idx}'].append(word)\n",
    "        \n",
    "topic_keywords_df = pd.DataFrame(topic_keywords)"
   ]
  },
  {
   "cell_type": "code",
   "execution_count": 6,
   "metadata": {
    "scrolled": true
   },
   "outputs": [
    {
     "name": "stderr",
     "output_type": "stream",
     "text": [
      "/data/blank54/anaconda3/envs/news/lib/python3.7/site-packages/ipykernel/ipkernel.py:287: DeprecationWarning: `should_run_async` will not call `transform_cell` automatically in the future. Please pass the result to `transformed_cell` argument and any exception that happen during thetransform in `preprocessing_exc_tuple` in IPython 7.17 and above.\n",
      "  and should_run_async(code)\n"
     ]
    }
   ],
   "source": [
    "fname_topic_keywords = 'topic_keywords.xlsx'\n",
    "topic_keywords_df.to_excel(excel_writer=os.path.sep.join((newspath.fdir_result, fname_topic_keywords)))"
   ]
  },
  {
   "cell_type": "markdown",
   "metadata": {},
   "source": [
    "# Topic assignment"
   ]
  },
  {
   "cell_type": "code",
   "execution_count": 6,
   "metadata": {},
   "outputs": [
    {
     "name": "stderr",
     "output_type": "stream",
     "text": [
      "/data/blank54/anaconda3/envs/news/lib/python3.7/site-packages/ipykernel/ipkernel.py:287: DeprecationWarning: `should_run_async` will not call `transform_cell` automatically in the future. Please pass the result to `transformed_cell` argument and any exception that happen during thetransform in `preprocessing_exc_tuple` in IPython 7.17 and above.\n",
      "  and should_run_async(code)\n"
     ]
    }
   ],
   "source": [
    "from news import NewsCorpus\n",
    "import numpy as np\n",
    "import itertools"
   ]
  },
  {
   "cell_type": "code",
   "execution_count": 7,
   "metadata": {},
   "outputs": [
    {
     "name": "stderr",
     "output_type": "stream",
     "text": [
      "/data/blank54/anaconda3/envs/news/lib/python3.7/site-packages/ipykernel/ipkernel.py:287: DeprecationWarning: `should_run_async` will not call `transform_cell` automatically in the future. Please pass the result to `transformed_cell` argument and any exception that happen during thetransform in `preprocessing_exc_tuple` in IPython 7.17 and above.\n",
      "  and should_run_async(code)\n"
     ]
    }
   ],
   "source": [
    "corpus = NewsCorpus()"
   ]
  },
  {
   "cell_type": "code",
   "execution_count": 17,
   "metadata": {},
   "outputs": [
    {
     "name": "stderr",
     "output_type": "stream",
     "text": [
      "/data/blank54/anaconda3/envs/news/lib/python3.7/site-packages/ipykernel/ipkernel.py:287: DeprecationWarning: `should_run_async` will not call `transform_cell` automatically in the future. Please pass the result to `transformed_cell` argument and any exception that happen during thetransform in `preprocessing_exc_tuple` in IPython 7.17 and above.\n",
      "  and should_run_async(code)\n",
      "  0%|          | 0/2358757 [00:00<?, ?it/s]Exception ignored in: <generator object NewsCorpus.iter at 0x7f3f84f8d4d0>\n",
      "RuntimeError: generator ignored GeneratorExit\n",
      "  0%|          | 2/2358757 [00:00<2:05:20, 313.64it/s]"
     ]
    },
    {
     "name": "stdout",
     "output_type": "stream",
     "text": [
      "ArticleReadingError: /data/blank54/workspace/project/news/corpus/201207/a-0002424076.json\n",
      "안택수 신용보증기금 이사장(왼쪽)이 12일 서울 도화동 가든호텔에서 마지막 기자간담회를 열어 금융당국이 신보의 부실채권을 일방적으로 자산관리공사에 이관하는 것에 반대 한다는 입장을 분명히 하고 있다.안택수 신용보증기금(신보) 이사장은 12일 \"부실채권을 기술보증기금처럼 자산관리공사(캠코)에 무조건 넘기는 것은 용납할 수 없는 일\"이라고 말했다. 그는 \"금융위원회가 그렇게 하고 싶다면 신보가 거둬들인 회수율만큼 대가를 지급하고 가져가라\"고 반대 입장을 분명히 했다.오는 17일 퇴임하는 안 이사장은 이날 마지막 기자간담회를 열어 그동안의 성과와 아쉬운 점 등에 대해 가감없이 입장을 밝혔다. 우선 그는 최근 금융위가 신보의 부실채권을 캠코로 이관하려는 것과 관련, \"신보는 4년째 연간 7000억원 수준의 부실채권을 회수해 수익률이 20%를 기록하고 있다\"면서 \"하지만 이를 캠코로 넘기면 수익률이 10%밖에 되지 않는다\"고 말했다.올해 캠코는 총 4073억원 규모의 중소기업진흥공단 부실채권을 인수한 데 이어 하반기에 기술보증기금이 보유한 약 5조원 규모의 부실채권을 추가로 인수할 계획이다. 아울러 신보법을 개정, 신보가 보유한 부실채권도 캠코로 이관하는 방안을 추진하고 있다.신보 노용훈 관리부 본부장은 \"신보는 지난 36년간 부실채권 회수를 담당하는 직원을 별도로 두고 부실채권 관리시스템을 구축하는 등 이 분야에서 노하우를 가지고 있다\"면서 \"현재 정부와 협의 중인데 5년이 지났다고 무조건 매각하는 것은 아니고 채무자들이 도덕적 해이(모럴해저드)에 빠지지 않도록 단계적으로 매각하는 방안을 캠코와 논의하고 있다\"고 밝혔다. 이와 함께 안 이사장은 \"올해 하반기에 경기침체기로 들어가면 보증 총량을 40조4000억원(보증잔액 기준)까지 늘릴 것\"이라며 \"경기침체기에 들어설 경우 보증수수료도 낮춰야 할 것\"이라고 말했다. 그는 또 주택수요가 줄어 종합건설업체의 보증수요가 적다는 점을 지적하며 보증대상을 전문건설업체로 확대해야 한다고 주장했다. 안 이사장은 \"종합건설업은 (보증) 수요가 적기 때문에 전문건설업까지 범위를 확대해 건설사에 대한 채권담보부증권(P-CBO) 지원 폭을 넓히는 것이 좋을 것\"이라며 \"하반기에 추가로 3조원까지 발행하는 것을 정부와 협의하고 있다\"고 말했다.아울러 그는 신보와 기보의 통합 가능성에 대해 \"기보는 이미 부산에 본사를 두고 있으며 신보는 최근 대구 이전을 앞두고 기공식까지 했다\"며 \"지역 간 갈등 문제 때문에 누가 정권을 잡더라도 신보와 기보 통합 문제는 사실상 물 건너간 것으로 봐야 한다\"고 밝혔다. 안 이사장은 퇴임 이후 계획에 대해 \"한동안 아프리카 등을 여행하면서 휴식을 취한 뒤 책을 쓸 계획\"이라고 말했다.  hjkim@fnnews.com 김홍재 기자\n",
      "■ 오늘의 핫뉴스 ▶ ‘스폰서 필요 여성 모집’ 이메일 대량발송 논란▶ 박은지 세차, 화이트 민소매+레드 핫팬츠 “첫 눈에 반한 김연우”▶ 가수 김혜연이 추천하는 다이어트..효과는? ▶ ‘2012 fn미술대전’ 10명의 큐레이터, 10개의 미래를 기획하다▶ 신보라 학생회장 시절, ‘단정+수수’ 모범생 포스 ‘작렬’※ 저작권자 ⓒ 파이낸셜뉴스. 무단 전재-재배포 금지\n",
      "\n",
      "['이사장', '퇴임', '이후', '계획', '한동안', '아프리카', '여행', '휴식', '뒤', '책', '계획']\n",
      "[(209, 1), (557, 1), (677, 1), (972, 1), (1057, 1), (1060, 1), (1261, 1), (1302, 2), (1653, 2), (1811, 1), (1890, 1), (3181, 1), (3711, 1), (3731, 1), (4353, 1), (4493, 1), (5308, 2), (6376, 1)]\n",
      "ArticleReadingError: /data/blank54/workspace/project/news/corpus/201207/a-0002685490.json\n"
     ]
    },
    {
     "name": "stderr",
     "output_type": "stream",
     "text": [
      "\n"
     ]
    }
   ],
   "source": [
    "for doc in corpus.iter():\n",
    "    print(doc['content'])\n",
    "    print()\n",
    "    print(doc['nouns_stop'])\n",
    "    doc_bow = id2word.doc2bow(itertools.chain(*doc['nouns_stop']))\n",
    "    print(doc_bow)\n",
    "    inf = lda_model.inference([doc_bow])\n",
    "    break"
   ]
  },
  {
   "cell_type": "code",
   "execution_count": 11,
   "metadata": {},
   "outputs": [
    {
     "name": "stderr",
     "output_type": "stream",
     "text": [
      "/data/blank54/anaconda3/envs/news/lib/python3.7/site-packages/ipykernel/ipkernel.py:287: DeprecationWarning: `should_run_async` will not call `transform_cell` automatically in the future. Please pass the result to `transformed_cell` argument and any exception that happen during thetransform in `preprocessing_exc_tuple` in IPython 7.17 and above.\n",
      "  and should_run_async(code)\n"
     ]
    },
    {
     "data": {
      "text/plain": [
       "(array([[ 0.10001215,  0.10000842,  0.10002447,  0.10003351,  0.10002286,\n",
       "          0.10000772, 14.291891  ,  0.10001052,  0.10000343,  0.10002243,\n",
       "          0.10001021,  0.10001378,  1.5785474 ,  0.10000712,  0.10000902,\n",
       "          0.10001113,  0.10002867,  0.10001866,  0.10000719,  0.1000089 ,\n",
       "          0.10000721,  0.10000953,  0.1000098 ,  2.2791893 ,  0.10003704,\n",
       "          0.10001487,  0.10001907,  0.33722547,  0.10003563,  2.9941823 ,\n",
       "          0.10001881,  0.10000343,  0.10001417,  0.10000748,  0.10001086,\n",
       "          0.10002864,  0.10001975]], dtype=float32),\n",
       " None)"
      ]
     },
     "execution_count": 11,
     "metadata": {},
     "output_type": "execute_result"
    }
   ],
   "source": [
    "inf"
   ]
  },
  {
   "cell_type": "code",
   "execution_count": 16,
   "metadata": {},
   "outputs": [
    {
     "name": "stderr",
     "output_type": "stream",
     "text": [
      "/data/blank54/anaconda3/envs/news/lib/python3.7/site-packages/ipykernel/ipkernel.py:287: DeprecationWarning: `should_run_async` will not call `transform_cell` automatically in the future. Please pass the result to `transformed_cell` argument and any exception that happen during thetransform in `preprocessing_exc_tuple` in IPython 7.17 and above.\n",
      "  and should_run_async(code)\n"
     ]
    },
    {
     "data": {
      "text/plain": [
       "6"
      ]
     },
     "execution_count": 16,
     "metadata": {},
     "output_type": "execute_result"
    }
   ],
   "source": [
    "np.argmax(inf[0])"
   ]
  },
  {
   "cell_type": "code",
   "execution_count": null,
   "metadata": {},
   "outputs": [],
   "source": []
  }
 ],
 "metadata": {
  "kernelspec": {
   "display_name": "Python 3",
   "language": "python",
   "name": "python3"
  },
  "language_info": {
   "codemirror_mode": {
    "name": "ipython",
    "version": 3
   },
   "file_extension": ".py",
   "mimetype": "text/x-python",
   "name": "python",
   "nbconvert_exporter": "python",
   "pygments_lexer": "ipython3",
   "version": "3.7.10"
  }
 },
 "nbformat": 4,
 "nbformat_minor": 4
}
