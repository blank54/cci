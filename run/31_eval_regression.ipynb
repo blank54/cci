{
 "cells": [
  {
   "cell_type": "code",
   "execution_count": 16,
   "id": "f7bf70f6",
   "metadata": {},
   "outputs": [
    {
     "name": "stderr",
     "output_type": "stream",
     "text": [
      "/data/blank54/anaconda3/envs/news/lib/python3.7/site-packages/ipykernel/ipkernel.py:287: DeprecationWarning: `should_run_async` will not call `transform_cell` automatically in the future. Please pass the result to `transformed_cell` argument and any exception that happen during thetransform in `preprocessing_exc_tuple` in IPython 7.17 and above.\n",
      "  and should_run_async(code)\n"
     ]
    }
   ],
   "source": [
    "#!/usr/bin/env python\n",
    "# -*- coding: utf-8 -*-\n",
    "\n",
    "# Configuration\n",
    "import os\n",
    "import sys\n",
    "rootpath = os.path.dirname(os.getcwd())\n",
    "sys.path.append(rootpath)\n",
    "\n",
    "from news import NewsIO, NewsFunc, NewsPath\n",
    "newsio = NewsIO()\n",
    "newsfunc = NewsFunc()\n",
    "newspath = NewsPath()\n",
    "\n",
    "import itertools\n",
    "import numpy as np\n",
    "from tqdm import tqdm\n",
    "from sklearn.model_selection import train_test_split"
   ]
  },
  {
   "cell_type": "markdown",
   "id": "f055f3c5",
   "metadata": {},
   "source": [
    "# Arguments"
   ]
  },
  {
   "cell_type": "code",
   "execution_count": 8,
   "id": "288647e9",
   "metadata": {},
   "outputs": [
    {
     "name": "stderr",
     "output_type": "stream",
     "text": [
      "/data/blank54/anaconda3/envs/news/lib/python3.7/site-packages/ipykernel/ipkernel.py:287: DeprecationWarning: `should_run_async` will not call `transform_cell` automatically in the future. Please pass the result to `transformed_cell` argument and any exception that happen during thetransform in `preprocessing_exc_tuple` in IPython 7.17 and above.\n",
      "  and should_run_async(code)\n"
     ]
    }
   ],
   "source": [
    "## Parameters\n",
    "TOPN = 1000\n",
    "RANDOM_STATE = 42\n",
    "\n",
    "BATCH_SIZE_LIST = [8, 16, 32]\n",
    "LEARNING_RATE_LIST = [1e-3, 1e-4, 1e-5]\n",
    "NUM_EPOCHS_LIST = [100, 1000, 10000]\n",
    "\n",
    "## Filenames\n",
    "fname_data_norm = f'data_w-{TOPN}_norm.pk'\n",
    "fname_corr_vars = 'correlated_variables.json'\n",
    "\n",
    "fdir_reg_model = os.path.sep.join((newspath.fdir_model, 'regression'))"
   ]
  },
  {
   "cell_type": "markdown",
   "id": "6a68e27b",
   "metadata": {},
   "source": [
    "# Data Preparation"
   ]
  },
  {
   "cell_type": "code",
   "execution_count": 11,
   "id": "bda63cad",
   "metadata": {},
   "outputs": [
    {
     "name": "stdout",
     "output_type": "stream",
     "text": [
      "  | fdir : /data/blank54/workspace/project/news/data\n",
      "  | fname: data_w-1000_norm.pk\n",
      "  | fdir : /data/blank54/workspace/project/news/data\n",
      "  | fname: correlated_variables.json\n",
      "X variables: (179, 342)\n"
     ]
    },
    {
     "name": "stderr",
     "output_type": "stream",
     "text": [
      "/data/blank54/anaconda3/envs/news/lib/python3.7/site-packages/ipykernel/ipkernel.py:287: DeprecationWarning: `should_run_async` will not call `transform_cell` automatically in the future. Please pass the result to `transformed_cell` argument and any exception that happen during thetransform in `preprocessing_exc_tuple` in IPython 7.17 and above.\n",
      "  and should_run_async(code)\n"
     ]
    }
   ],
   "source": [
    "df_norm = newsio.load(fname_object=fname_data_norm, _type='data')\n",
    "corr_vars = newsio.load_json(fname_object=fname_corr_vars, _type='data')\n",
    "x_df = df_norm[corr_vars]\n",
    "y_df = newsio.load_cci(start='200502', end='201912')['cci']\n",
    "\n",
    "x_train, x_test, y_train, y_test = train_test_split(x_df, y_df, test_size=0.2, shuffle=False, random_state=RANDOM_STATE)\n",
    "\n",
    "print('X variables: {}'.format(x_df.shape))"
   ]
  },
  {
   "cell_type": "markdown",
   "id": "71664b48",
   "metadata": {},
   "source": [
    "# Evaluation"
   ]
  },
  {
   "cell_type": "code",
   "execution_count": 20,
   "id": "4b9269fe",
   "metadata": {},
   "outputs": [
    {
     "name": "stderr",
     "output_type": "stream",
     "text": [
      "/data/blank54/anaconda3/envs/news/lib/python3.7/site-packages/ipykernel/ipkernel.py:287: DeprecationWarning: `should_run_async` will not call `transform_cell` automatically in the future. Please pass the result to `transformed_cell` argument and any exception that happen during thetransform in `preprocessing_exc_tuple` in IPython 7.17 and above.\n",
      "  and should_run_async(code)\n"
     ]
    }
   ],
   "source": [
    "def MAPE(y_test, y_pred):\n",
    "    return np.mean(np.abs((y_test - y_pred) / y_test)) * 100\n",
    "\n",
    "def sort_results(results):\n",
    "    return sorted(results, key=lambda x:x[5], reverse=False)"
   ]
  },
  {
   "cell_type": "code",
   "execution_count": 22,
   "id": "3fd40d6f",
   "metadata": {},
   "outputs": [
    {
     "name": "stderr",
     "output_type": "stream",
     "text": [
      "/data/blank54/anaconda3/envs/news/lib/python3.7/site-packages/ipykernel/ipkernel.py:287: DeprecationWarning: `should_run_async` will not call `transform_cell` automatically in the future. Please pass the result to `transformed_cell` argument and any exception that happen during thetransform in `preprocessing_exc_tuple` in IPython 7.17 and above.\n",
      "  and should_run_async(code)\n"
     ]
    },
    {
     "ename": "FileNotFoundError",
     "evalue": "[Errno 2] No such file or directory: '/data/blank54/workspace/project/news/model/regression/cnn_history_small_B-8_L-0.001_E-100.pk'",
     "output_type": "error",
     "traceback": [
      "\u001b[0;31m---------------------------------------------------------------------------\u001b[0m",
      "\u001b[0;31mFileNotFoundError\u001b[0m                         Traceback (most recent call last)",
      "\u001b[0;32m<ipython-input-22-4caae3f7ab34>\u001b[0m in \u001b[0;36m<module>\u001b[0;34m\u001b[0m\n\u001b[1;32m      6\u001b[0m     \u001b[0;32mfor\u001b[0m \u001b[0mBATCH_SIZE\u001b[0m\u001b[0;34m,\u001b[0m \u001b[0mLEARNING_RATE\u001b[0m\u001b[0;34m,\u001b[0m \u001b[0mNUM_EPOCHS\u001b[0m \u001b[0;32min\u001b[0m \u001b[0mitertools\u001b[0m\u001b[0;34m.\u001b[0m\u001b[0mproduct\u001b[0m\u001b[0;34m(\u001b[0m\u001b[0mBATCH_SIZE_LIST\u001b[0m\u001b[0;34m,\u001b[0m \u001b[0mLEARNING_RATE_LIST\u001b[0m\u001b[0;34m,\u001b[0m \u001b[0mNUM_EPOCHS_LIST\u001b[0m\u001b[0;34m)\u001b[0m\u001b[0;34m:\u001b[0m\u001b[0;34m\u001b[0m\u001b[0;34m\u001b[0m\u001b[0m\n\u001b[1;32m      7\u001b[0m         \u001b[0mfname_history\u001b[0m \u001b[0;34m=\u001b[0m \u001b[0;34mf'{MODEL_TYPE}_history_{MODEL_SIZE}_B-{BATCH_SIZE}_L-{LEARNING_RATE}_E-{NUM_EPOCHS}.pk'\u001b[0m\u001b[0;34m\u001b[0m\u001b[0;34m\u001b[0m\u001b[0m\n\u001b[0;32m----> 8\u001b[0;31m         \u001b[0mhistory\u001b[0m \u001b[0;34m=\u001b[0m \u001b[0mnewsio\u001b[0m\u001b[0;34m.\u001b[0m\u001b[0mload\u001b[0m\u001b[0;34m(\u001b[0m\u001b[0mfdir_object\u001b[0m\u001b[0;34m=\u001b[0m\u001b[0mfdir_reg_model\u001b[0m\u001b[0;34m,\u001b[0m \u001b[0mfname_object\u001b[0m\u001b[0;34m=\u001b[0m\u001b[0mfname_history\u001b[0m\u001b[0;34m,\u001b[0m \u001b[0mverbose\u001b[0m\u001b[0;34m=\u001b[0m\u001b[0;32mFalse\u001b[0m\u001b[0;34m)\u001b[0m\u001b[0;34m\u001b[0m\u001b[0;34m\u001b[0m\u001b[0m\n\u001b[0m\u001b[1;32m      9\u001b[0m \u001b[0;34m\u001b[0m\u001b[0m\n\u001b[1;32m     10\u001b[0m         \u001b[0my_pred\u001b[0m \u001b[0;34m=\u001b[0m \u001b[0mhistory\u001b[0m\u001b[0;34m.\u001b[0m\u001b[0mmodel\u001b[0m\u001b[0;34m.\u001b[0m\u001b[0mpredict\u001b[0m\u001b[0;34m(\u001b[0m\u001b[0mx_test\u001b[0m\u001b[0;34m)\u001b[0m\u001b[0;34m\u001b[0m\u001b[0;34m\u001b[0m\u001b[0m\n",
      "\u001b[0;32m~/workspace/project/news/news.py\u001b[0m in \u001b[0;36mload\u001b[0;34m(self, fname_object, verbose, **kwargs)\u001b[0m\n\u001b[1;32m     77\u001b[0m         \u001b[0mfdir_object\u001b[0m \u001b[0;34m=\u001b[0m \u001b[0mkwargs\u001b[0m\u001b[0;34m.\u001b[0m\u001b[0mget\u001b[0m\u001b[0;34m(\u001b[0m\u001b[0;34m'fdir_object'\u001b[0m\u001b[0;34m,\u001b[0m \u001b[0mos\u001b[0m\u001b[0;34m.\u001b[0m\u001b[0mpath\u001b[0m\u001b[0;34m.\u001b[0m\u001b[0msep\u001b[0m\u001b[0;34m.\u001b[0m\u001b[0mjoin\u001b[0m\u001b[0;34m(\u001b[0m\u001b[0;34m(\u001b[0m\u001b[0mself\u001b[0m\u001b[0;34m.\u001b[0m\u001b[0mroot\u001b[0m\u001b[0;34m,\u001b[0m \u001b[0m_type\u001b[0m\u001b[0;34m)\u001b[0m\u001b[0;34m)\u001b[0m\u001b[0;34m)\u001b[0m\u001b[0;34m\u001b[0m\u001b[0;34m\u001b[0m\u001b[0m\n\u001b[1;32m     78\u001b[0m         \u001b[0mfpath_object\u001b[0m \u001b[0;34m=\u001b[0m \u001b[0mos\u001b[0m\u001b[0;34m.\u001b[0m\u001b[0mpath\u001b[0m\u001b[0;34m.\u001b[0m\u001b[0msep\u001b[0m\u001b[0;34m.\u001b[0m\u001b[0mjoin\u001b[0m\u001b[0;34m(\u001b[0m\u001b[0;34m(\u001b[0m\u001b[0mfdir_object\u001b[0m\u001b[0;34m,\u001b[0m \u001b[0mfname_object\u001b[0m\u001b[0;34m)\u001b[0m\u001b[0;34m)\u001b[0m\u001b[0;34m\u001b[0m\u001b[0;34m\u001b[0m\u001b[0m\n\u001b[0;32m---> 79\u001b[0;31m         \u001b[0;32mwith\u001b[0m \u001b[0mopen\u001b[0m\u001b[0;34m(\u001b[0m\u001b[0mfpath_object\u001b[0m\u001b[0;34m,\u001b[0m \u001b[0;34m'rb'\u001b[0m\u001b[0;34m)\u001b[0m \u001b[0;32mas\u001b[0m \u001b[0mf\u001b[0m\u001b[0;34m:\u001b[0m\u001b[0;34m\u001b[0m\u001b[0;34m\u001b[0m\u001b[0m\n\u001b[0m\u001b[1;32m     80\u001b[0m             \u001b[0m_object\u001b[0m \u001b[0;34m=\u001b[0m \u001b[0mpk\u001b[0m\u001b[0;34m.\u001b[0m\u001b[0mload\u001b[0m\u001b[0;34m(\u001b[0m\u001b[0mf\u001b[0m\u001b[0;34m)\u001b[0m\u001b[0;34m\u001b[0m\u001b[0;34m\u001b[0m\u001b[0m\n\u001b[1;32m     81\u001b[0m \u001b[0;34m\u001b[0m\u001b[0m\n",
      "\u001b[0;31mFileNotFoundError\u001b[0m: [Errno 2] No such file or directory: '/data/blank54/workspace/project/news/model/regression/cnn_history_small_B-8_L-0.001_E-100.pk'"
     ]
    }
   ],
   "source": [
    "MODEL_TYPE_LIST = ['dnn', 'cnn']\n",
    "MODEL_SIZE_LIST = ['large', 'small']\n",
    "\n",
    "results_map = {}\n",
    "for MODEL_TYPE, MODEL_SIZE in itertools.product(MODEL_TYPE_LIST, MODEL_SIZE_LIST):\n",
    "    for BATCH_SIZE, LEARNING_RATE, NUM_EPOCHS in itertools.product(BATCH_SIZE_LIST, LEARNING_RATE_LIST, NUM_EPOCHS_LIST):\n",
    "        fname_history = f'{MODEL_TYPE}_history_{MODEL_SIZE}_B-{BATCH_SIZE}_L-{LEARNING_RATE}_E-{NUM_EPOCHS}.pk'\n",
    "        history = newsio.load(fdir_object=fdir_reg_model, fname_object=fname_history, verbose=False)\n",
    "\n",
    "        y_pred = history.model.predict(x_test)\n",
    "        mape = MAPE(y_test.values, y_pred)\n",
    "        model_perf = (MODEL_TYPE, MODEL_SIZE, BATCH_SIZE, LEARNING_RATE, NUM_EPOCHS, mape)\n",
    "        results_map[f'{MODEL_TYPE}_{MODEL_SIZE}'] = model_perf"
   ]
  },
  {
   "cell_type": "code",
   "execution_count": 18,
   "id": "04d75b17",
   "metadata": {},
   "outputs": [
    {
     "name": "stderr",
     "output_type": "stream",
     "text": [
      "/data/blank54/anaconda3/envs/news/lib/python3.7/site-packages/ipykernel/ipkernel.py:287: DeprecationWarning: `should_run_async` will not call `transform_cell` automatically in the future. Please pass the result to `transformed_cell` argument and any exception that happen during thetransform in `preprocessing_exc_tuple` in IPython 7.17 and above.\n",
      "  and should_run_async(code)\n"
     ]
    },
    {
     "data": {
      "text/plain": [
       "[('dnn', 'large', 8, 0.001, 100, 14.174953843131858),\n",
       " ('dnn', 'large', 8, 0.001, 1000, 19.30950380775334),\n",
       " ('dnn', 'large', 8, 0.001, 10000, 17.300005796456116),\n",
       " ('dnn', 'large', 8, 0.0001, 100, 66.40448199203335),\n",
       " ('dnn', 'large', 8, 0.0001, 1000, 67.86250158167866),\n",
       " ('dnn', 'large', 8, 0.0001, 10000, 69.89335771346447),\n",
       " ('dnn', 'large', 8, 1e-05, 100, 89.44422737342292),\n",
       " ('dnn', 'large', 8, 1e-05, 1000, 85.8269213757125),\n",
       " ('dnn', 'large', 8, 1e-05, 10000, 80.4422063875563),\n",
       " ('dnn', 'large', 16, 0.001, 100, 13.538047806495127),\n",
       " ('dnn', 'large', 16, 0.001, 1000, 18.10650225975726),\n",
       " ('dnn', 'large', 16, 0.001, 10000, 17.89925585106068),\n",
       " ('dnn', 'large', 16, 0.0001, 100, 65.63328543683261),\n",
       " ('dnn', 'large', 16, 0.0001, 1000, 65.5363356610164),\n",
       " ('dnn', 'large', 16, 0.0001, 10000, 65.85488985687246),\n",
       " ('dnn', 'large', 16, 1e-05, 100, 97.26230514271238),\n",
       " ('dnn', 'large', 16, 1e-05, 1000, 74.52929632270445),\n",
       " ('dnn', 'large', 16, 1e-05, 10000, 70.71308017665888),\n",
       " ('dnn', 'large', 32, 0.001, 100, 31.266327463836923),\n",
       " ('dnn', 'large', 32, 0.001, 1000, 21.1709422731907),\n",
       " ('dnn', 'large', 32, 0.001, 10000, 14.886226841283209),\n",
       " ('dnn', 'large', 32, 0.0001, 100, 74.06787571432454),\n",
       " ('dnn', 'large', 32, 0.0001, 1000, 64.88775626468139),\n",
       " ('dnn', 'large', 32, 0.0001, 10000, 66.99089531975322),\n",
       " ('dnn', 'large', 32, 1e-05, 100, 99.12064235807736),\n",
       " ('dnn', 'large', 32, 1e-05, 1000, 85.41110718076915),\n",
       " ('dnn', 'large', 32, 1e-05, 10000, 78.41121852589197)]"
      ]
     },
     "execution_count": 18,
     "metadata": {},
     "output_type": "execute_result"
    }
   ],
   "source": [
    "results"
   ]
  },
  {
   "cell_type": "code",
   "execution_count": 21,
   "id": "34287c53",
   "metadata": {},
   "outputs": [
    {
     "name": "stderr",
     "output_type": "stream",
     "text": [
      "/data/blank54/anaconda3/envs/news/lib/python3.7/site-packages/ipykernel/ipkernel.py:287: DeprecationWarning: `should_run_async` will not call `transform_cell` automatically in the future. Please pass the result to `transformed_cell` argument and any exception that happen during thetransform in `preprocessing_exc_tuple` in IPython 7.17 and above.\n",
      "  and should_run_async(code)\n"
     ]
    },
    {
     "data": {
      "text/plain": [
       "[('dnn', 'small', 32, 0.001, 10000, 9.39183230127909),\n",
       " ('dnn', 'small', 32, 0.001, 1000, 10.346755487497827),\n",
       " ('dnn', 'small', 8, 0.001, 10000, 10.697081276665852),\n",
       " ('dnn', 'small', 16, 0.001, 100, 11.306654674937118),\n",
       " ('dnn', 'small', 8, 0.001, 100, 12.665664933395476),\n",
       " ('dnn', 'small', 8, 0.0001, 10000, 13.23723632048688),\n",
       " ('dnn', 'small', 16, 0.001, 10000, 14.38191831155573),\n",
       " ('dnn', 'small', 16, 0.001, 1000, 15.049040880289887),\n",
       " ('dnn', 'small', 32, 0.001, 100, 17.713429344904494),\n",
       " ('dnn', 'small', 32, 0.0001, 10000, 22.568654929078203),\n",
       " ('dnn', 'small', 8, 0.001, 1000, 23.417235285092254),\n",
       " ('dnn', 'small', 8, 0.0001, 1000, 27.762653971388318),\n",
       " ('dnn', 'small', 8, 0.0001, 100, 30.81316471806965),\n",
       " ('dnn', 'small', 32, 0.0001, 1000, 62.60071835079959),\n",
       " ('dnn', 'small', 16, 0.0001, 100, 80.84846341974466),\n",
       " ('dnn', 'small', 16, 0.0001, 10000, 82.86340451910813),\n",
       " ('dnn', 'small', 32, 0.0001, 100, 93.09412846525092),\n",
       " ('dnn', 'small', 16, 1e-05, 10000, 97.49770235984009),\n",
       " ('dnn', 'small', 32, 1e-05, 1000, 97.62173434325017),\n",
       " ('dnn', 'small', 8, 1e-05, 100, 97.86126227322613),\n",
       " ('dnn', 'small', 8, 1e-05, 10000, 99.43044651235675),\n",
       " ('dnn', 'small', 32, 1e-05, 10000, 99.45368161613595),\n",
       " ('dnn', 'small', 16, 0.0001, 1000, 99.80776530031197),\n",
       " ('dnn', 'small', 16, 1e-05, 1000, 99.83280082198365),\n",
       " ('dnn', 'small', 8, 1e-05, 1000, 99.88161090188845),\n",
       " ('dnn', 'small', 16, 1e-05, 100, 99.99556750143655),\n",
       " ('dnn', 'small', 32, 1e-05, 100, 100.00430203240892)]"
      ]
     },
     "execution_count": 21,
     "metadata": {},
     "output_type": "execute_result"
    }
   ],
   "source": [
    "sort_results(results)"
   ]
  }
 ],
 "metadata": {
  "kernelspec": {
   "display_name": "Python 3",
   "language": "python",
   "name": "python3"
  },
  "language_info": {
   "codemirror_mode": {
    "name": "ipython",
    "version": 3
   },
   "file_extension": ".py",
   "mimetype": "text/x-python",
   "name": "python",
   "nbconvert_exporter": "python",
   "pygments_lexer": "ipython3",
   "version": "3.7.10"
  }
 },
 "nbformat": 4,
 "nbformat_minor": 5
}
